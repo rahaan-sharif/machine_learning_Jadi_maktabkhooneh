{
 "cells": [
  {
   "cell_type": "code",
   "execution_count": null,
   "id": "35fffe8c-4721-44bb-965a-546809d2e0b9",
   "metadata": {},
   "outputs": [],
   "source": []
  }
 ],
 "metadata": {
  "kernelspec": {
   "display_name": "",
   "name": ""
  },
  "language_info": {
   "name": ""
  }
 },
 "nbformat": 4,
 "nbformat_minor": 5
}
