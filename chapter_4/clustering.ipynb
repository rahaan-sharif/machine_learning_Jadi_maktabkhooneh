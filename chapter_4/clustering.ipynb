{
 "cells": [
  {
   "cell_type": "code",
   "execution_count": 1,
   "id": "c8f4fd9e-1ec4-4760-b4d7-46e7e6ce530c",
   "metadata": {},
   "outputs": [
    {
     "name": "stdout",
     "output_type": "stream",
     "text": [
      "salam donya\n"
     ]
    }
   ],
   "source": [
    "print(\"salam donya\")"
   ]
  },
  {
   "cell_type": "code",
   "execution_count": null,
   "id": "a996632f-77ea-4b4d-8818-e099cbfe9dcf",
   "metadata": {},
   "outputs": [],
   "source": []
  }
 ],
 "metadata": {
  "kernelspec": {
   "display_name": "ml_jadi_mordad_1404",
   "language": "python",
   "name": "ml_jadi_mordad_1404"
  },
  "language_info": {
   "codemirror_mode": {
    "name": "ipython",
    "version": 3
   },
   "file_extension": ".py",
   "mimetype": "text/x-python",
   "name": "python",
   "nbconvert_exporter": "python",
   "pygments_lexer": "ipython3",
   "version": "3.10.12"
  }
 },
 "nbformat": 4,
 "nbformat_minor": 5
}
